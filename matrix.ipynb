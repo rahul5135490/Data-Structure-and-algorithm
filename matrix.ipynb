{
 "cells": [
  {
   "cell_type": "markdown",
   "id": "5a761198-883c-4d9d-b63d-bda4dc7186ae",
   "metadata": {},
   "source": [
    "Matrix is a special case of two dimensional array where each data element is of strictly same size. So every matrix is also a two dimensional array but not vice versa."
   ]
  },
  {
   "cell_type": "markdown",
   "id": "b6460488-e0e8-4e38-9845-13dfba1ed028",
   "metadata": {},
   "source": [
    "the case of recording temprature for 1 week measured in the morning, mid-day, evening and mid-night. It can be presented as a 7X5 matrix using an array and the reshape method available in numpy."
   ]
  },
  {
   "cell_type": "code",
   "execution_count": 1,
   "id": "52ae2cb0-4f0b-4058-965a-92b2e263427b",
   "metadata": {},
   "outputs": [
    {
     "name": "stdout",
     "output_type": "stream",
     "text": [
      "[['Mon' '18' '20' '22' '17']\n",
      " ['Tue' '11' '18' '21' '18']\n",
      " ['Wed' '15' '21' '20' '19']\n",
      " ['Thu' '11' '20' '22' '21']\n",
      " ['Fri' '18' '17' '23' '22']\n",
      " ['Sat' '12' '22' '20' '18']\n",
      " ['Sun' '13' '15' '19' '16']]\n"
     ]
    }
   ],
   "source": [
    "from numpy import * \n",
    "a = array([['Mon',18,20,22,17],['Tue',11,18,21,18],\n",
    "   ['Wed',15,21,20,19],['Thu',11,20,22,21],\n",
    "   ['Fri',18,17,23,22],['Sat',12,22,20,18],\n",
    "   ['Sun',13,15,19,16]])\n",
    "m = reshape(a,(7,5))\n",
    "print(m)"
   ]
  },
  {
   "cell_type": "code",
   "execution_count": 2,
   "id": "1b248435-9f20-42a8-bcc8-f937c5ae1771",
   "metadata": {},
   "outputs": [
    {
     "name": "stdout",
     "output_type": "stream",
     "text": [
      "['Wed' '15' '21' '20' '19']\n"
     ]
    }
   ],
   "source": [
    "# Print data for Wednesday\n",
    "print(m[2])"
   ]
  },
  {
   "cell_type": "code",
   "execution_count": 3,
   "id": "4e249584-711b-4ba0-915f-d5e8ca2dda9c",
   "metadata": {},
   "outputs": [
    {
     "name": "stdout",
     "output_type": "stream",
     "text": [
      "23\n"
     ]
    }
   ],
   "source": [
    "# Print data for friday evening\n",
    "print(m[4][3])"
   ]
  },
  {
   "cell_type": "code",
   "execution_count": 4,
   "id": "42305ae1-f869-442e-b7a2-8858ef3760c4",
   "metadata": {},
   "outputs": [],
   "source": [
    "##Adding a row"
   ]
  },
  {
   "cell_type": "code",
   "execution_count": 5,
   "id": "c48d1666-a049-496e-9593-49bf0ee63b6e",
   "metadata": {},
   "outputs": [],
   "source": [
    "m_r = append(m,[['Avg',12,15,13,11]],0)"
   ]
  },
  {
   "cell_type": "code",
   "execution_count": 6,
   "id": "620f9a9f-c7df-4091-a00f-9e9cf31dc02a",
   "metadata": {},
   "outputs": [
    {
     "name": "stdout",
     "output_type": "stream",
     "text": [
      "[['Mon' '18' '20' '22' '17']\n",
      " ['Tue' '11' '18' '21' '18']\n",
      " ['Wed' '15' '21' '20' '19']\n",
      " ['Thu' '11' '20' '22' '21']\n",
      " ['Fri' '18' '17' '23' '22']\n",
      " ['Sat' '12' '22' '20' '18']\n",
      " ['Sun' '13' '15' '19' '16']\n",
      " ['Avg' '12' '15' '13' '11']]\n"
     ]
    }
   ],
   "source": [
    "print(m_r)"
   ]
  },
  {
   "cell_type": "code",
   "execution_count": 7,
   "id": "74e5bd12-a584-4c2f-b7e6-c5a49ce36aaf",
   "metadata": {},
   "outputs": [],
   "source": [
    "###Adding a column"
   ]
  },
  {
   "cell_type": "markdown",
   "id": "1a6717bd-8ef3-4462-94f0-6c8260dc8645",
   "metadata": {},
   "source": [
    "We can add column to a matrix using the insert() method. here we have to mention the index where we want to add the column and a array containing the new values of the columns added.In the below example we add t a new column at the fifth position from the beginning."
   ]
  },
  {
   "cell_type": "code",
   "execution_count": 8,
   "id": "7ed58296-c8f9-4f7c-8e39-326b209e0281",
   "metadata": {},
   "outputs": [
    {
     "name": "stdout",
     "output_type": "stream",
     "text": [
      "[['Mon' '18' '20' '22' '17' '1']\n",
      " ['Tue' '11' '18' '21' '18' '2']\n",
      " ['Wed' '15' '21' '20' '19' '3']\n",
      " ['Thu' '11' '20' '22' '21' '4']\n",
      " ['Fri' '18' '17' '23' '22' '5']\n",
      " ['Sat' '12' '22' '20' '18' '6']\n",
      " ['Sun' '13' '15' '19' '16' '7']]\n"
     ]
    }
   ],
   "source": [
    "from numpy import * \n",
    "m = array([['Mon',18,20,22,17],['Tue',11,18,21,18],\n",
    "   ['Wed',15,21,20,19],['Thu',11,20,22,21],\n",
    "   ['Fri',18,17,23,22],['Sat',12,22,20,18],\n",
    "   ['Sun',13,15,19,16]])\n",
    "m_c = insert(m,[5],[[1],[2],[3],[4],[5],[6],[7]],1)\n",
    "\n",
    "print(m_c)"
   ]
  },
  {
   "cell_type": "code",
   "execution_count": 9,
   "id": "a401cf96-4f4c-4732-a9b6-afc4e7c80926",
   "metadata": {},
   "outputs": [],
   "source": [
    "#Delete a row"
   ]
  },
  {
   "cell_type": "code",
   "execution_count": 10,
   "id": "61f1eac0-3701-47c9-8f12-6c4903ea178a",
   "metadata": {},
   "outputs": [],
   "source": [
    "#We can delete a row from a matrix using the delete() method. We have to specify the index of the row and also the axis value which is 0 for a row and 1 for a column."
   ]
  },
  {
   "cell_type": "code",
   "execution_count": 11,
   "id": "68894654-53ba-43ba-ad0e-a7ff29a6635b",
   "metadata": {},
   "outputs": [
    {
     "name": "stdout",
     "output_type": "stream",
     "text": [
      "[['Mon' '18' '20' '22' '17']\n",
      " ['Tue' '11' '18' '21' '18']\n",
      " ['Thu' '11' '20' '22' '21']\n",
      " ['Fri' '18' '17' '23' '22']\n",
      " ['Sat' '12' '22' '20' '18']\n",
      " ['Sun' '13' '15' '19' '16']]\n"
     ]
    }
   ],
   "source": [
    "from numpy import * \n",
    "m = array([['Mon',18,20,22,17],['Tue',11,18,21,18],\n",
    "   ['Wed',15,21,20,19],['Thu',11,20,22,21],\n",
    "   ['Fri',18,17,23,22],['Sat',12,22,20,18],\n",
    "   ['Sun',13,15,19,16]])\n",
    "m = delete(m,[2],0)\n",
    "\n",
    "print(m)"
   ]
  },
  {
   "cell_type": "code",
   "execution_count": 12,
   "id": "888c9209-8d8b-45d2-bab3-ca30a625c321",
   "metadata": {},
   "outputs": [],
   "source": [
    "m = delete(m,[2],1)"
   ]
  },
  {
   "cell_type": "code",
   "execution_count": 13,
   "id": "cd057270-3264-4e84-a6fe-7343ea0a7e18",
   "metadata": {},
   "outputs": [
    {
     "name": "stdout",
     "output_type": "stream",
     "text": [
      "[['Mon' '18' '22' '17']\n",
      " ['Tue' '11' '21' '18']\n",
      " ['Thu' '11' '22' '21']\n",
      " ['Fri' '18' '23' '22']\n",
      " ['Sat' '12' '20' '18']\n",
      " ['Sun' '13' '19' '16']]\n"
     ]
    }
   ],
   "source": [
    "print(m)"
   ]
  },
  {
   "cell_type": "code",
   "execution_count": 16,
   "id": "80b0458f-15db-4e64-832b-bbfae0cd2851",
   "metadata": {},
   "outputs": [],
   "source": [
    "m = delete(m,[3],1)"
   ]
  },
  {
   "cell_type": "code",
   "execution_count": 17,
   "id": "3f5d845c-fa84-4d04-8845-44c0f0bda68a",
   "metadata": {},
   "outputs": [
    {
     "name": "stdout",
     "output_type": "stream",
     "text": [
      "[['Mon' '18' '22']\n",
      " ['Tue' '11' '21']\n",
      " ['Thu' '11' '22']\n",
      " ['Fri' '18' '23']\n",
      " ['Sat' '12' '20']\n",
      " ['Sun' '13' '19']]\n"
     ]
    }
   ],
   "source": [
    "print(m)"
   ]
  },
  {
   "cell_type": "code",
   "execution_count": 18,
   "id": "5d1b15f2-2552-44f8-bc5b-262536620cb5",
   "metadata": {},
   "outputs": [],
   "source": [
    "#Update a row"
   ]
  },
  {
   "cell_type": "code",
   "execution_count": 20,
   "id": "de35e163-1df2-4055-aef7-8411ee4ea9f4",
   "metadata": {},
   "outputs": [],
   "source": [
    "##o update the values in the row of a matrix we simply re-assign the values at the index of the row. In the below example all the values for thrusday's data is marked as zero. The index for this row is 3."
   ]
  },
  {
   "cell_type": "code",
   "execution_count": 21,
   "id": "2fb61059-13d2-48d1-8fcb-0f7add5c7d02",
   "metadata": {},
   "outputs": [
    {
     "name": "stdout",
     "output_type": "stream",
     "text": [
      "[['Mon' '18' '20' '22' '17']\n",
      " ['Tue' '11' '18' '21' '18']\n",
      " ['Wed' '15' '21' '20' '19']\n",
      " ['Thu' '0' '0' '0' '0']\n",
      " ['Fri' '18' '17' '23' '22']\n",
      " ['Sat' '12' '22' '20' '18']\n",
      " ['Sun' '13' '15' '19' '16']]\n"
     ]
    }
   ],
   "source": [
    "from numpy import * \n",
    "m = array([['Mon',18,20,22,17],['Tue',11,18,21,18],\n",
    "   ['Wed',15,21,20,19],['Thu',11,20,22,21],\n",
    "   ['Fri',18,17,23,22],['Sat',12,22,20,18],\n",
    "   ['Sun',13,15,19,16]])\n",
    "m[3] = ['Thu',0,0,0,0]\n",
    "\n",
    "print(m)"
   ]
  },
  {
   "cell_type": "code",
   "execution_count": null,
   "id": "0c18917b-ad96-43e5-8986-e432f069a837",
   "metadata": {},
   "outputs": [],
   "source": []
  },
  {
   "cell_type": "code",
   "execution_count": null,
   "id": "ca313835-d50c-4fa0-afcf-69e6b815ba5c",
   "metadata": {},
   "outputs": [],
   "source": []
  }
 ],
 "metadata": {
  "kernelspec": {
   "display_name": "Python 3 (ipykernel)",
   "language": "python",
   "name": "python3"
  },
  "language_info": {
   "codemirror_mode": {
    "name": "ipython",
    "version": 3
   },
   "file_extension": ".py",
   "mimetype": "text/x-python",
   "name": "python",
   "nbconvert_exporter": "python",
   "pygments_lexer": "ipython3",
   "version": "3.11.5"
  }
 },
 "nbformat": 4,
 "nbformat_minor": 5
}
