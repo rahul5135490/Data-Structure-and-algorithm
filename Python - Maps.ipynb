{
 "cells": [
  {
   "cell_type": "code",
   "execution_count": 1,
   "id": "b68698b1-f4f4-4cde-8cd4-ed73d66c1d4f",
   "metadata": {},
   "outputs": [
    {
     "data": {
      "text/plain": [
       "'Python Maps also called ChainMap is a type of data structure to manage multiple dictionaries together as one unit. The combined dictionary contains the key and value pairs in a specific sequence eliminating any duplicate keys. The best use of ChainMap is to search through multiple dictionaries at a time and get the proper key-value pair mapping. We also see that these ChainMaps behave as stack data structure.'"
      ]
     },
     "execution_count": 1,
     "metadata": {},
     "output_type": "execute_result"
    }
   ],
   "source": [
    "\"\"\"Python Maps also called ChainMap is a type of data structure to manage multiple dictionaries together as one unit. The combined dictionary contains the key and value pairs in a specific sequence eliminating any duplicate keys. The best use of ChainMap is to search through multiple dictionaries at a time and get the proper key-value pair mapping. We also see that these ChainMaps behave as stack data structure.\"\"\""
   ]
  },
  {
   "cell_type": "code",
   "execution_count": 2,
   "id": "ccf2fb11-a5f0-4b21-899a-8b35d512e789",
   "metadata": {},
   "outputs": [],
   "source": [
    "##Creating a ChainMap"
   ]
  },
  {
   "cell_type": "code",
   "execution_count": 3,
   "id": "7b2d16a5-f56c-42a6-bdeb-08bdbb60b055",
   "metadata": {},
   "outputs": [
    {
     "data": {
      "text/plain": [
       "'We create two dictionaries and club them using the ChainMap method from the collections library. Then we print the keys and values of the result of the combination of the dictionaries. If there are duplicate keys, then only the value from the first key is preserved.'"
      ]
     },
     "execution_count": 3,
     "metadata": {},
     "output_type": "execute_result"
    }
   ],
   "source": [
    "\"\"\"We create two dictionaries and club them using the ChainMap method from the collections library. Then we print the keys and values of the result of the combination of the dictionaries. If there are duplicate keys, then only the value from the first key is preserved.\"\"\""
   ]
  },
  {
   "cell_type": "code",
   "execution_count": 4,
   "id": "37261e1e-6803-45c2-9251-2a659e057edf",
   "metadata": {},
   "outputs": [],
   "source": [
    "import collections\n",
    "\n",
    "dict1 = {'day1': 'Mon', 'day2': 'Tue'}\n",
    "dict2 = {'day3': 'Wed', 'day1': 'Thu'}\n",
    "\n",
    "res = collections.ChainMap(dict1, dict2)"
   ]
  },
  {
   "cell_type": "code",
   "execution_count": 5,
   "id": "f854fc7f-b75c-4e9a-93ec-ea90548c2371",
   "metadata": {},
   "outputs": [
    {
     "data": {
      "text/plain": [
       "ChainMap({'day1': 'Mon', 'day2': 'Tue'}, {'day3': 'Wed', 'day1': 'Thu'})"
      ]
     },
     "execution_count": 5,
     "metadata": {},
     "output_type": "execute_result"
    }
   ],
   "source": [
    "res"
   ]
  },
  {
   "cell_type": "code",
   "execution_count": 6,
   "id": "77708d3f-a9b1-4979-9cbe-51d2ca164dd5",
   "metadata": {},
   "outputs": [
    {
     "name": "stdout",
     "output_type": "stream",
     "text": [
      "[{'day1': 'Mon', 'day2': 'Tue'}, {'day3': 'Wed', 'day1': 'Thu'}] \n",
      "\n",
      "Keys = ['day3', 'day1', 'day2']\n",
      "Values = ['Wed', 'Mon', 'Tue']\n",
      "\n"
     ]
    }
   ],
   "source": [
    "# Creating a single dictionary\n",
    "print(res.maps,'\\n')\n",
    "\n",
    "print('Keys = {}'.format(list(res.keys())))\n",
    "print('Values = {}'.format(list(res.values())))\n",
    "print()"
   ]
  },
  {
   "cell_type": "code",
   "execution_count": 7,
   "id": "8e880ef6-5c5b-4aef-863d-cdcfc69c81bf",
   "metadata": {},
   "outputs": [
    {
     "name": "stdout",
     "output_type": "stream",
     "text": [
      "elements:\n",
      "day3 = Wed\n",
      "day1 = Mon\n",
      "day2 = Tue\n",
      "\n"
     ]
    }
   ],
   "source": [
    "# Print all the elements from the result\n",
    "print('elements:')\n",
    "for key, val in res.items():\n",
    "   print('{} = {}'.format(key, val))\n",
    "print()"
   ]
  },
  {
   "cell_type": "code",
   "execution_count": 8,
   "id": "5823bfc0-e0fa-4276-91a4-5e983d31cf35",
   "metadata": {},
   "outputs": [
    {
     "name": "stdout",
     "output_type": "stream",
     "text": [
      "day3 in res: True\n",
      "day4 in res: False\n"
     ]
    }
   ],
   "source": [
    "# Find a specific value in the result\n",
    "print('day3 in res: {}'.format(('day1' in res)))\n",
    "print('day4 in res: {}'.format(('day4' in res)))"
   ]
  },
  {
   "cell_type": "code",
   "execution_count": 9,
   "id": "2ae18642-ea8b-4246-9d33-22101d75a76d",
   "metadata": {},
   "outputs": [],
   "source": [
    "#Map Reordering"
   ]
  },
  {
   "cell_type": "code",
   "execution_count": 10,
   "id": "54a78253-baa4-4872-b16d-5900726d382c",
   "metadata": {},
   "outputs": [
    {
     "data": {
      "text/plain": [
       "'If we change the order the dictionaries while clubbing them in the above example we see that the position of the elements get interchanged as if they are in a continuous chain. This again shows the behavior of Maps as stacks.'"
      ]
     },
     "execution_count": 10,
     "metadata": {},
     "output_type": "execute_result"
    }
   ],
   "source": [
    "\"\"\"If we change the order the dictionaries while clubbing them in the above example we see that the position of the elements get interchanged as if they are in a continuous chain. This again shows the behavior of Maps as stacks.\"\"\""
   ]
  },
  {
   "cell_type": "code",
   "execution_count": 11,
   "id": "a7357cb2-608d-4fea-ac1d-248fd3d35565",
   "metadata": {},
   "outputs": [
    {
     "name": "stdout",
     "output_type": "stream",
     "text": [
      "[{'day1': 'Mon', 'day2': 'Tue'}, {'day3': 'Wed', 'day4': 'Thu'}] \n",
      "\n",
      "[{'day3': 'Wed', 'day4': 'Thu'}, {'day1': 'Mon', 'day2': 'Tue'}] \n",
      "\n"
     ]
    }
   ],
   "source": [
    "import collections\n",
    "\n",
    "dict1 = {'day1': 'Mon', 'day2': 'Tue'}\n",
    "dict2 = {'day3': 'Wed', 'day4': 'Thu'}\n",
    "\n",
    "res1 = collections.ChainMap(dict1, dict2)\n",
    "print(res1.maps,'\\n')\n",
    "\n",
    "res2 = collections.ChainMap(dict2, dict1)\n",
    "print(res2.maps,'\\n')"
   ]
  },
  {
   "cell_type": "code",
   "execution_count": 12,
   "id": "f631b89b-44ab-4e50-a703-86e5d8080d41",
   "metadata": {},
   "outputs": [],
   "source": [
    "#Updating Map"
   ]
  },
  {
   "cell_type": "code",
   "execution_count": 13,
   "id": "1f24544e-10cc-4174-96e9-075580c97768",
   "metadata": {},
   "outputs": [
    {
     "data": {
      "text/plain": [
       "'When the element of the dictionary is updated, the result is instantly updated in the result of the ChainMap. In the below example we see that the new updated value reflects in the result without explicitly applying the ChainMap method again.'"
      ]
     },
     "execution_count": 13,
     "metadata": {},
     "output_type": "execute_result"
    }
   ],
   "source": [
    "\"\"\"When the element of the dictionary is updated, the result is instantly updated in the result of the ChainMap. In the below example we see that the new updated value reflects in the result without explicitly applying the ChainMap method again.\"\"\""
   ]
  },
  {
   "cell_type": "code",
   "execution_count": 14,
   "id": "7fe250b0-630e-4480-9346-781f6706a57d",
   "metadata": {},
   "outputs": [
    {
     "name": "stdout",
     "output_type": "stream",
     "text": [
      "[{'day1': 'Mon', 'day2': 'Tue'}, {'day3': 'Wed', 'day4': 'Thu'}] \n",
      "\n",
      "[{'day1': 'Mon', 'day2': 'Tue'}, {'day3': 'Wed', 'day4': 'Fri'}] \n",
      "\n"
     ]
    }
   ],
   "source": [
    "import collections\n",
    "\n",
    "dict1 = {'day1': 'Mon', 'day2': 'Tue'}\n",
    "dict2 = {'day3': 'Wed', 'day4': 'Thu'}\n",
    "\n",
    "res = collections.ChainMap(dict1, dict2)\n",
    "print(res.maps,'\\n')\n",
    "\n",
    "dict2['day4'] = 'Fri'\n",
    "print(res.maps,'\\n')"
   ]
  },
  {
   "cell_type": "code",
   "execution_count": 15,
   "id": "903e7d40-67df-42d0-a474-afe43fa5cd82",
   "metadata": {},
   "outputs": [],
   "source": [
    "dict2['day4'] = 'Sunday'"
   ]
  },
  {
   "cell_type": "code",
   "execution_count": 16,
   "id": "47dbf1e9-1339-4ff7-b337-7b469a7f56aa",
   "metadata": {},
   "outputs": [
    {
     "name": "stdout",
     "output_type": "stream",
     "text": [
      "[{'day1': 'Mon', 'day2': 'Tue'}, {'day3': 'Wed', 'day4': 'Sunday'}] \n",
      "\n"
     ]
    }
   ],
   "source": [
    "print(res.maps,'\\n')"
   ]
  },
  {
   "cell_type": "code",
   "execution_count": null,
   "id": "8453590b-5f4d-431c-be85-be283366dbd6",
   "metadata": {},
   "outputs": [],
   "source": []
  }
 ],
 "metadata": {
  "kernelspec": {
   "display_name": "Python 3 (ipykernel)",
   "language": "python",
   "name": "python3"
  },
  "language_info": {
   "codemirror_mode": {
    "name": "ipython",
    "version": 3
   },
   "file_extension": ".py",
   "mimetype": "text/x-python",
   "name": "python",
   "nbconvert_exporter": "python",
   "pygments_lexer": "ipython3",
   "version": "3.11.5"
  }
 },
 "nbformat": 4,
 "nbformat_minor": 5
}
